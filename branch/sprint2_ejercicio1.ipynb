{
 "cells": [
  {
   "cell_type": "code",
   "execution_count": 23,
   "id": "1bc15f3a",
   "metadata": {},
   "outputs": [
    {
     "data": {
      "text/plain": [
       "['unique_key',\n",
       " 'taxi_id',\n",
       " 'trip_start_timestamp',\n",
       " 'trip_end_timestamp',\n",
       " 'trip_seconds',\n",
       " 'trip_miles',\n",
       " 'pickup_census_tract',\n",
       " 'dropoff_census_tract',\n",
       " 'pickup_community_area',\n",
       " 'dropoff_community_area',\n",
       " 'fare',\n",
       " 'tips',\n",
       " 'tolls',\n",
       " 'extras',\n",
       " 'trip_total',\n",
       " 'payment_type',\n",
       " 'company',\n",
       " 'pickup_latitude',\n",
       " 'pickup_longitude',\n",
       " 'pickup_location',\n",
       " 'dropoff_latitude',\n",
       " 'dropoff_longitude',\n",
       " 'dropoff_location']"
      ]
     },
     "execution_count": 23,
     "metadata": {},
     "output_type": "execute_result"
    }
   ],
   "source": [
    "import csv\n",
    "file = open('/Users/emorales/Downloads/actividad-clase-2.csv')\n",
    "\n",
    "type(file)\n",
    "csvreader = csv.reader(file)\n",
    "header = []\n",
    "header = next(csvreader)\n",
    "header"
   ]
  },
  {
   "cell_type": "code",
   "execution_count": null,
   "id": "fa4d46e4",
   "metadata": {},
   "outputs": [],
   "source": []
  }
 ],
 "metadata": {
  "kernelspec": {
   "display_name": "Python 3 (ipykernel)",
   "language": "python",
   "name": "python3"
  },
  "language_info": {
   "codemirror_mode": {
    "name": "ipython",
    "version": 3
   },
   "file_extension": ".py",
   "mimetype": "text/x-python",
   "name": "python",
   "nbconvert_exporter": "python",
   "pygments_lexer": "ipython3",
   "version": "3.9.12"
  }
 },
 "nbformat": 4,
 "nbformat_minor": 5
}
