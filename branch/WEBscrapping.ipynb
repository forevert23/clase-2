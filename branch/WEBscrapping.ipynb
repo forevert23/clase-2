{
 "cells": [
  {
   "cell_type": "markdown",
   "id": "98ee275f",
   "metadata": {},
   "source": [
    "# <h1>Obtener el resultado de las siguientes métricas:</h1>\n",
    "\n",
    "<b>Valores de apertura</b>\n",
    "\n",
    "<li>Día y valor en el cual la apertura es el máximo</li>\n",
    "\n",
    "<li>Día y valor en el cual el valor es el mínimo</li>\n",
    "\n",
    "<b>Valores de cierre</b>\n",
    "\n",
    "<li>Día y valor en el cual la apertura es el máximo</li>\n",
    "\n",
    "<li>Día y valor en el cual el valor es el mínimo</li>\n",
    "\n",
    "<b>Valores de volumen</b>\n",
    "\n",
    "<li>Día y valor en el cual la apertura es el máximo</li>\n",
    "\n",
    "<li>Día y valor en el cual el valor es el mínimo</li>"
   ]
  },
  {
   "cell_type": "code",
   "execution_count": 5,
   "id": "fb6be15b",
   "metadata": {},
   "outputs": [
    {
     "name": "stdout",
     "output_type": "stream",
     "text": [
      "Requirement already satisfied: requests_html in /Users/emorales/opt/anaconda3/lib/python3.9/site-packages (0.10.0)\n",
      "Requirement already satisfied: pyquery in /Users/emorales/opt/anaconda3/lib/python3.9/site-packages (from requests_html) (1.4.3)\n",
      "Requirement already satisfied: requests in /Users/emorales/opt/anaconda3/lib/python3.9/site-packages (from requests_html) (2.27.1)\n",
      "Requirement already satisfied: fake-useragent in /Users/emorales/opt/anaconda3/lib/python3.9/site-packages (from requests_html) (0.1.11)\n",
      "Requirement already satisfied: bs4 in /Users/emorales/opt/anaconda3/lib/python3.9/site-packages (from requests_html) (0.0.1)\n",
      "Requirement already satisfied: pyppeteer>=0.0.14 in /Users/emorales/opt/anaconda3/lib/python3.9/site-packages (from requests_html) (1.0.2)\n",
      "Requirement already satisfied: parse in /Users/emorales/opt/anaconda3/lib/python3.9/site-packages (from requests_html) (1.19.0)\n",
      "Requirement already satisfied: w3lib in /Users/emorales/opt/anaconda3/lib/python3.9/site-packages (from requests_html) (1.21.0)\n",
      "Requirement already satisfied: certifi>=2021 in /Users/emorales/opt/anaconda3/lib/python3.9/site-packages (from pyppeteer>=0.0.14->requests_html) (2021.10.8)\n",
      "Requirement already satisfied: websockets<11.0,>=10.0 in /Users/emorales/opt/anaconda3/lib/python3.9/site-packages (from pyppeteer>=0.0.14->requests_html) (10.3)\n",
      "Requirement already satisfied: pyee<9.0.0,>=8.1.0 in /Users/emorales/opt/anaconda3/lib/python3.9/site-packages (from pyppeteer>=0.0.14->requests_html) (8.2.2)\n",
      "Requirement already satisfied: appdirs<2.0.0,>=1.4.3 in /Users/emorales/opt/anaconda3/lib/python3.9/site-packages (from pyppeteer>=0.0.14->requests_html) (1.4.4)\n",
      "Requirement already satisfied: importlib-metadata>=1.4 in /Users/emorales/opt/anaconda3/lib/python3.9/site-packages (from pyppeteer>=0.0.14->requests_html) (4.11.3)\n",
      "Requirement already satisfied: tqdm<5.0.0,>=4.42.1 in /Users/emorales/opt/anaconda3/lib/python3.9/site-packages (from pyppeteer>=0.0.14->requests_html) (4.64.0)\n",
      "Requirement already satisfied: urllib3<2.0.0,>=1.25.8 in /Users/emorales/opt/anaconda3/lib/python3.9/site-packages (from pyppeteer>=0.0.14->requests_html) (1.26.9)\n",
      "Requirement already satisfied: zipp>=0.5 in /Users/emorales/opt/anaconda3/lib/python3.9/site-packages (from importlib-metadata>=1.4->pyppeteer>=0.0.14->requests_html) (3.7.0)\n",
      "Requirement already satisfied: beautifulsoup4 in /Users/emorales/opt/anaconda3/lib/python3.9/site-packages (from bs4->requests_html) (4.11.1)\n",
      "Requirement already satisfied: soupsieve>1.2 in /Users/emorales/opt/anaconda3/lib/python3.9/site-packages (from beautifulsoup4->bs4->requests_html) (2.3.1)\n",
      "Requirement already satisfied: lxml>=2.1 in /Users/emorales/opt/anaconda3/lib/python3.9/site-packages (from pyquery->requests_html) (4.8.0)\n",
      "Requirement already satisfied: cssselect>0.7.9 in /Users/emorales/opt/anaconda3/lib/python3.9/site-packages (from pyquery->requests_html) (1.1.0)\n",
      "Requirement already satisfied: charset-normalizer~=2.0.0 in /Users/emorales/opt/anaconda3/lib/python3.9/site-packages (from requests->requests_html) (2.0.4)\n",
      "Requirement already satisfied: idna<4,>=2.5 in /Users/emorales/opt/anaconda3/lib/python3.9/site-packages (from requests->requests_html) (3.3)\n",
      "Requirement already satisfied: six>=1.4.1 in /Users/emorales/opt/anaconda3/lib/python3.9/site-packages (from w3lib->requests_html) (1.16.0)\n"
     ]
    }
   ],
   "source": [
    "!pip install requests_html\n",
    "\n",
    "import pandas as pd\n",
    "from bs4 import BeautifulSoup as bSoup\n",
    "from requests_html import HTMLSession\n",
    "\n",
    "url = \"https://es.finance.yahoo.com/quote/TEF/history?p=TEF&.tsrc=fin-srch\"\n",
    "\n",
    "s = HTMLSession()\n",
    "response = s.get(url)\n",
    "\n",
    "soup = BeautifulSoup(response.content, \"html.parser\")"
   ]
  },
  {
   "cell_type": "code",
   "execution_count": 6,
   "id": "a8efe967",
   "metadata": {},
   "outputs": [],
   "source": [
    "URL = \"https://es.finance.yahoo.com/quote/TEF/history?p=TEF&.tsrc=fin-srch\"\n",
    "rq = HTMLSession()\n",
    "pagina = rq.get(URL)\n",
    " \n",
    "soup = bSoup(pagina.content, \"html.parser\")\n",
    " \n",
    "\n",
    "fecha = []\n",
    "apertura = []\n",
    "apertura_max = []\n",
    "apertura_min = []\n",
    "cierre = []\n",
    "volumen = []\n",
    " \n",
    "elements = soup.find_all(\"tr\", class_=\"BdT\")"
   ]
  },
  {
   "cell_type": "code",
   "execution_count": 7,
   "id": "129f8ae8",
   "metadata": {},
   "outputs": [],
   "source": [
    "def findMin(df, column):\n",
    "  minimo = 100000000.0\n",
    "  fecha = ''\n",
    "  for idx in df.index:\n",
    "    if float(df[column][idx]) < minimo:\n",
    "      minimo = float(df[column][idx])\n",
    "      fecha = df['fecha'][idx]\n",
    "  return fecha, minimo\n",
    " \n",
    " \n",
    " \n",
    "def findMax(df, column):\n",
    "  maximo = -1000000000.0\n",
    "  fecha = ''\n",
    "  for idx in df.index:\n",
    "    if float(df[column][idx]) > maximo:\n",
    "      maximo = float(df[column][idx])\n",
    "      fecha = df['fecha'][idx]\n",
    "  return fecha, maximo"
   ]
  },
  {
   "cell_type": "code",
   "execution_count": 9,
   "id": "c19b5a72",
   "metadata": {
    "scrolled": true
   },
   "outputs": [],
   "source": [
    "for e in elements:\n",
    "  row = e.find_all(\"span\")\n",
    "\n",
    "  if len(row) == 7:\n",
    "    fecha.append(str(row[0].contents).replace(\"['\",\"\").replace(\"']\",\"\"))  \n",
    "    apertura.append(str(row[1].contents).replace(',','.').replace(\"['\",\"\").replace(\"']\",\"\")) \n",
    "    apertura_max.append(str(row[2].contents).replace(',','.').replace(\"['\",\"\").replace(\"']\",\"\"))\n",
    "    apertura_min.append(str(row[3].contents).replace(',','.').replace(\"['\",\"\").replace(\"']\",\"\"))\n",
    "    cierre.append(str(row[4].contents).replace(',','.').replace(\"['\",\"\").replace(\"']\",\"\"))\n",
    "    volumen.append(str(row[6].contents).replace('.','').replace(\"['\",\"\").replace(\"']\",\"\"))\n",
    " \n",
    " \n",
    "dictionary = {\n",
    "    \"fecha\": fecha,\n",
    "    \"apertura\": apertura,\n",
    "    \"apertura_max\": apertura_max,\n",
    "    \"apertura_min\": apertura_min,\n",
    "    \"cierre\": cierre,\n",
    "    \"volumen\": volumen,\n",
    "}\n",
    " \n",
    "data = pd.DataFrame(dictionary)\n",
    " \n",
    "\n",
    "apMinFecha, apMinValue = findMin(data, 'apertura_min')\n",
    "apMaxFecha, apMaxValue = findMax(data, 'apertura_max')\n",
    "cierreMinFecha, cierreMinValue = findMin(data, 'cierre')\n",
    "cierreMaxFecha, cierreMaxValue = findMax(data, 'cierre')\n",
    "volumenMinFecha, volumenMinValue = findMin(data, 'volumen')\n",
    "volumenMaxFecha, volumenMaxValue = findMax(data, 'volumen')"
   ]
  },
  {
   "cell_type": "code",
   "execution_count": 10,
   "id": "66309e14",
   "metadata": {},
   "outputs": [
    {
     "name": "stdout",
     "output_type": "stream",
     "text": [
      "apertura\n",
      "minimo  28 sept 2022  valor  3.24\n",
      "maximo  31 may 2022  valor  5.38\n",
      "\n"
     ]
    }
   ],
   "source": [
    "print('apertura') \n",
    "print('minimo  '+str(apMinFecha)+'  valor  '+str(apMinValue)) \n",
    "print('maximo  '+str(apMaxFecha)+'  valor  '+str(apMaxValue)+'\\n') "
   ]
  },
  {
   "cell_type": "code",
   "execution_count": 11,
   "id": "18af4e87",
   "metadata": {},
   "outputs": [
    {
     "name": "stdout",
     "output_type": "stream",
     "text": [
      "cierre\n",
      "minimo  28 sept 2022  valor  3.33\n",
      "maximo  31 may 2022  valor  5.32\n",
      "\n"
     ]
    }
   ],
   "source": [
    "print('cierre') \n",
    "print('minimo  '+str(cierreMinFecha)+'  valor  '+str(cierreMinValue)) \n",
    "print('maximo  '+str(cierreMaxFecha)+'  valor  '+str(cierreMaxValue)+'\\n')"
   ]
  },
  {
   "cell_type": "code",
   "execution_count": 12,
   "id": "cbed0acf",
   "metadata": {},
   "outputs": [
    {
     "name": "stdout",
     "output_type": "stream",
     "text": [
      "vol\n",
      "minimo  13 jul 2022  valor  725700.0\n",
      "maximo  03 jun 2022  valor  5644000.0\n",
      "\n"
     ]
    }
   ],
   "source": [
    "print('vol') \n",
    "print('minimo  '+str(volumenMinFecha)+'  valor  '+str(volumenMinValue)) \n",
    "print('maximo  '+str(volumenMaxFecha)+'  valor  '+str(volumenMaxValue)+'\\n')"
   ]
  },
  {
   "cell_type": "code",
   "execution_count": null,
   "id": "25ed1286",
   "metadata": {},
   "outputs": [],
   "source": []
  }
 ],
 "metadata": {
  "kernelspec": {
   "display_name": "Python 3 (ipykernel)",
   "language": "python",
   "name": "python3"
  },
  "language_info": {
   "codemirror_mode": {
    "name": "ipython",
    "version": 3
   },
   "file_extension": ".py",
   "mimetype": "text/x-python",
   "name": "python",
   "nbconvert_exporter": "python",
   "pygments_lexer": "ipython3",
   "version": "3.9.12"
  }
 },
 "nbformat": 4,
 "nbformat_minor": 5
}
